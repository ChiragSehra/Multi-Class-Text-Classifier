{
 "cells": [
  {
   "cell_type": "code",
   "execution_count": 7,
   "metadata": {},
   "outputs": [],
   "source": [
    "from fastai.text import *\n",
    "import pandas as pd\n",
    "import numpy as np\n",
    "from sklearn.feature_selection import chi2"
   ]
  },
  {
   "cell_type": "code",
   "execution_count": 8,
   "metadata": {},
   "outputs": [
    {
     "name": "stderr",
     "output_type": "stream",
     "text": [
      "<ipython-input-8-dc5dda32fe3d>:1: FutureWarning: Passing a negative integer is deprecated in version 1.0 and will not be supported in future version. Instead, use None to not limit the column width.\n",
      "  pd.set_option('display.max_colwidth',-1)\n"
     ]
    }
   ],
   "source": [
    "pd.set_option('display.max_colwidth',-1)"
   ]
  },
  {
   "cell_type": "code",
   "execution_count": 9,
   "metadata": {},
   "outputs": [],
   "source": [
    "text_path = \"../dataset/title_StackOverflow.txt\"\n",
    "label_path=\"../dataset/label_StackOverflow.txt\""
   ]
  },
  {
   "cell_type": "code",
   "execution_count": 14,
   "metadata": {},
   "outputs": [],
   "source": [
    "df_text = pd.read_csv(text_path,sep=\"\\t\",names=[\"text\"],header=None)\n",
    "df_label = pd.read_csv(label_path,sep=\"\\t\",names=[\"label\"],header=None)\n",
    "\n",
    "df = pd.concat([df_label,df_text],axis=1,sort=False)"
   ]
  },
  {
   "cell_type": "code",
   "execution_count": 15,
   "metadata": {},
   "outputs": [
    {
     "name": "stdout",
     "output_type": "stream",
     "text": [
      "Length of dataset: 20000\n"
     ]
    }
   ],
   "source": [
    "print(\"Length of dataset: \"+str(len(df.index)))"
   ]
  },
  {
   "cell_type": "code",
   "execution_count": 16,
   "metadata": {},
   "outputs": [
    {
     "data": {
      "text/html": [
       "<div>\n",
       "<style scoped>\n",
       "    .dataframe tbody tr th:only-of-type {\n",
       "        vertical-align: middle;\n",
       "    }\n",
       "\n",
       "    .dataframe tbody tr th {\n",
       "        vertical-align: top;\n",
       "    }\n",
       "\n",
       "    .dataframe thead th {\n",
       "        text-align: right;\n",
       "    }\n",
       "</style>\n",
       "<table border=\"1\" class=\"dataframe\">\n",
       "  <thead>\n",
       "    <tr style=\"text-align: right;\">\n",
       "      <th></th>\n",
       "      <th>label</th>\n",
       "      <th>text</th>\n",
       "    </tr>\n",
       "  </thead>\n",
       "  <tbody>\n",
       "    <tr>\n",
       "      <th>0</th>\n",
       "      <td>18</td>\n",
       "      <td>How do I fill a DataSet or a DataTable from a LINQ query resultset ?</td>\n",
       "    </tr>\n",
       "    <tr>\n",
       "      <th>1</th>\n",
       "      <td>18</td>\n",
       "      <td>How do you page a collection with LINQ?</td>\n",
       "    </tr>\n",
       "    <tr>\n",
       "      <th>2</th>\n",
       "      <td>3</td>\n",
       "      <td>Best Subversion clients for Windows Vista (64bit)</td>\n",
       "    </tr>\n",
       "    <tr>\n",
       "      <th>3</th>\n",
       "      <td>3</td>\n",
       "      <td>Best Practice: Collaborative Environment, Bin Directory, SVN</td>\n",
       "    </tr>\n",
       "    <tr>\n",
       "      <th>4</th>\n",
       "      <td>7</td>\n",
       "      <td>Visual Studio Setup Project - Per User Registry Settings</td>\n",
       "    </tr>\n",
       "  </tbody>\n",
       "</table>\n",
       "</div>"
      ],
      "text/plain": [
       "   label                                                                  text\n",
       "0  18     How do I fill a DataSet or a DataTable from a LINQ query resultset ?\n",
       "1  18     How do you page a collection with LINQ?                             \n",
       "2  3      Best Subversion clients for Windows Vista (64bit)                   \n",
       "3  3      Best Practice: Collaborative Environment, Bin Directory, SVN        \n",
       "4  7      Visual Studio Setup Project - Per User Registry Settings            "
      ]
     },
     "execution_count": 16,
     "metadata": {},
     "output_type": "execute_result"
    }
   ],
   "source": [
    "df.head()"
   ]
  },
  {
   "cell_type": "code",
   "execution_count": 17,
   "metadata": {},
   "outputs": [
    {
     "data": {
      "text/html": [
       "<div>\n",
       "<style scoped>\n",
       "    .dataframe tbody tr th:only-of-type {\n",
       "        vertical-align: middle;\n",
       "    }\n",
       "\n",
       "    .dataframe tbody tr th {\n",
       "        vertical-align: top;\n",
       "    }\n",
       "\n",
       "    .dataframe thead th {\n",
       "        text-align: right;\n",
       "    }\n",
       "</style>\n",
       "<table border=\"1\" class=\"dataframe\">\n",
       "  <thead>\n",
       "    <tr style=\"text-align: right;\">\n",
       "      <th></th>\n",
       "      <th>label</th>\n",
       "      <th>text</th>\n",
       "    </tr>\n",
       "  </thead>\n",
       "  <tbody>\n",
       "    <tr>\n",
       "      <th>0</th>\n",
       "      <td>linq</td>\n",
       "      <td>How do I fill a DataSet or a DataTable from a LINQ query resultset ?</td>\n",
       "    </tr>\n",
       "    <tr>\n",
       "      <th>1</th>\n",
       "      <td>linq</td>\n",
       "      <td>How do you page a collection with LINQ?</td>\n",
       "    </tr>\n",
       "    <tr>\n",
       "      <th>2</th>\n",
       "      <td>svn</td>\n",
       "      <td>Best Subversion clients for Windows Vista (64bit)</td>\n",
       "    </tr>\n",
       "    <tr>\n",
       "      <th>3</th>\n",
       "      <td>svn</td>\n",
       "      <td>Best Practice: Collaborative Environment, Bin Directory, SVN</td>\n",
       "    </tr>\n",
       "    <tr>\n",
       "      <th>4</th>\n",
       "      <td>visual-studio</td>\n",
       "      <td>Visual Studio Setup Project - Per User Registry Settings</td>\n",
       "    </tr>\n",
       "  </tbody>\n",
       "</table>\n",
       "</div>"
      ],
      "text/plain": [
       "           label  \\\n",
       "0  linq            \n",
       "1  linq            \n",
       "2  svn             \n",
       "3  svn             \n",
       "4  visual-studio   \n",
       "\n",
       "                                                                   text  \n",
       "0  How do I fill a DataSet or a DataTable from a LINQ query resultset ?  \n",
       "1  How do you page a collection with LINQ?                               \n",
       "2  Best Subversion clients for Windows Vista (64bit)                     \n",
       "3  Best Practice: Collaborative Environment, Bin Directory, SVN          \n",
       "4  Visual Studio Setup Project - Per User Registry Settings              "
      ]
     },
     "execution_count": 17,
     "metadata": {},
     "output_type": "execute_result"
    }
   ],
   "source": [
    "mapping = {\n",
    "  1: 'wordpress',\n",
    "  2: 'oracle',\n",
    "  3: 'svn',\n",
    "  4: 'apache',\n",
    "  5: 'excel',\n",
    "  6: 'matlab',\n",
    "  7: 'visual-studio',\n",
    "  8: 'cocoa',\n",
    "  9: 'osx',\n",
    "  10: 'bash',\n",
    "  11: 'spring',\n",
    "  12: 'hibernate',\n",
    "  13: 'scala',\n",
    "  14: 'sharepoint',\n",
    "  15: 'ajax',\n",
    "  16: 'qt',\n",
    "  17: 'drupal',\n",
    "  18: 'linq',\n",
    "  19: 'haskell',\n",
    "  20: 'magento'\n",
    "}\n",
    "df['label'] = df['label'].map(mapping)\n",
    "df.head()"
   ]
  },
  {
   "cell_type": "markdown",
   "metadata": {},
   "source": [
    "## Creating training and validation datasets "
   ]
  },
  {
   "cell_type": "code",
   "execution_count": null,
   "metadata": {},
   "outputs": [],
   "source": []
  }
 ],
 "metadata": {
  "kernelspec": {
   "display_name": "Python 3",
   "language": "python",
   "name": "python3"
  },
  "language_info": {
   "codemirror_mode": {
    "name": "ipython",
    "version": 3
   },
   "file_extension": ".py",
   "mimetype": "text/x-python",
   "name": "python",
   "nbconvert_exporter": "python",
   "pygments_lexer": "ipython3",
   "version": "3.8.2"
  }
 },
 "nbformat": 4,
 "nbformat_minor": 4
}
